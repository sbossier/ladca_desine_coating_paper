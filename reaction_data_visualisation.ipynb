{
 "cells": [
  {
   "cell_type": "markdown",
   "metadata": {},
   "source": [
    "Graphs to make:\n",
    "- [V] 1. Conversion in function of SEI\n",
    "- [ ] 2. Product yield in function of conversion with selectivity as slope\n",
    "- [V] 3. Atom balances in function of SEI\n",
    "- [ ] 4. Product yield in function of SEI"
   ]
  },
  {
   "cell_type": "markdown",
   "metadata": {},
   "source": [
    "Step 0: Importing libraries and creating static variables"
   ]
  },
  {
   "cell_type": "code",
   "execution_count": 137,
   "metadata": {},
   "outputs": [],
   "source": [
    "# Importing the libraries\n",
    "import os\n",
    "import pandas as pd\n",
    "import matplotlib.pyplot as plt\n",
    "import matplotlib.gridspec as gridspec\n",
    "import seaborn as sns\n",
    "import scipy.stats as stats\n",
    "\n",
    "import warnings\n",
    "from numpy import RankWarning\n",
    "\n",
    "# Suppress RankWarnings\n",
    "warnings.filterwarnings('ignore', category=RankWarning)"
   ]
  },
  {
   "cell_type": "code",
   "execution_count": 138,
   "metadata": {},
   "outputs": [],
   "source": [
    "# Define the alpha value for the post-plasma materials\n",
    "alpha = 0.75\n",
    "\n",
    "# Define the color for each material\n",
    "packing_colors = {\n",
    "    'SiO₂ Type S': (0/255, 0/255, 0/255),\n",
    "    'SiO₂@TiO₂  3 h': (86/255, 180/255, 233/255),\n",
    "    'SiO₂@TiO₂  6 h': (0/255, 114/255, 178/255),\n",
    "    'SiO₂@TiO₂  9 h': (230/255, 159/255, 0/255),\n",
    "    'SiO₂@TiO₂ 12 h': (213/255, 94/255, 0/255)\n",
    "}\n",
    "\n",
    "# determine order of materials for plotting\n",
    "packing_order = [\n",
    "    'SiO₂ Type S',\n",
    "    'SiO₂@TiO₂  3 h',\n",
    "    'SiO₂@TiO₂  6 h',\n",
    "    'SiO₂@TiO₂  9 h',\n",
    "    'SiO₂@TiO₂ 12 h',      \n",
    "]\n",
    "\n",
    "t_quantile = stats.t.ppf(1 - 0.05/2, 7)"
   ]
  },
  {
   "cell_type": "code",
   "execution_count": 139,
   "metadata": {},
   "outputs": [],
   "source": [
    "# Use Times New Roman font\n",
    "plt.rcParams['font.family'] = 'serif'\n",
    "plt.rcParams['font.serif'] = 'Times New Roman'\n",
    "plt.rcParams['mathtext.fontset'] = 'custom'\n",
    "plt.rcParams['mathtext.rm'] = 'Times New Roman'\n",
    "plt.rcParams['mathtext.it'] = 'Times New Roman:italic'\n",
    "plt.rcParams['mathtext.bf'] = 'Times New Roman:bold'\n",
    "\n",
    "# Set font size\n",
    "plt.rcParams['font.size'] = 7"
   ]
  },
  {
   "cell_type": "markdown",
   "metadata": {},
   "source": [
    "Step 1: Importing & preparing data"
   ]
  },
  {
   "cell_type": "code",
   "execution_count": 140,
   "metadata": {},
   "outputs": [],
   "source": [
    "# Importing the dataset\n",
    "# set the folder and file name\n",
    "folder_path = r'N:\\FWET\\FDCH\\AdsCatal\\General\\personal_work_folders\\plasmacatdesign\\co2-splitting\\uhasselt'\n",
    "file_path = os.path.join(folder_path, 'uhasselt_co2_splitting_reaction_data_combined.csv')\n",
    "\n",
    "# read the Excel file\n",
    "df = pd.read_csv(file_path)"
   ]
  },
  {
   "cell_type": "code",
   "execution_count": 141,
   "metadata": {},
   "outputs": [],
   "source": [
    "# Preparing the data for all plots\n",
    "df = df[\n",
    "    df['res_time_sec'] <= 80\n",
    "].assign(\n",
    "    compound=lambda x: x['compound'].map(\n",
    "        {\n",
    "            'CO2': 'CO₂',\n",
    "            'CO': 'CO',\n",
    "            'O2': 'O₂',\n",
    "            'N2': 'N₂'\n",
    "        }\n",
    "    ),\n",
    "    packing=lambda x: x['packing'].map(\n",
    "        {\n",
    "            'SiO2@Anatase TiO2 - 220/03H': 'SiO₂@TiO₂  3 h',\n",
    "            'SiO2@Anatase TiO2 - 220/06H': 'SiO₂@TiO₂  6 h',\n",
    "            'SiO2@Anatase TiO2 - 220/09H': 'SiO₂@TiO₂  9 h',\n",
    "            'SiO2@Anatase TiO2 - 220/12H': 'SiO₂@TiO₂ 12 h',\n",
    "            'SiO2 Type S 1.6-1.8 mm': 'SiO₂ Type S'\n",
    "        }\n",
    "    )\n",
    ").query(\n",
    "    'packing in [\"SiO₂ Type S\", \"SiO₂@TiO₂  3 h\", \"SiO₂@TiO₂  6 h\", \"SiO₂@TiO₂  9 h\", \"SiO₂@TiO₂ 12 h\"]'\n",
    ")"
   ]
  },
  {
   "cell_type": "markdown",
   "metadata": {},
   "source": [
    "Step 2: Conv vs SEI"
   ]
  },
  {
   "cell_type": "code",
   "execution_count": 142,
   "metadata": {},
   "outputs": [],
   "source": [
    "# Prepare the data for the conversion plotting\n",
    "df_conv = df[\n",
    "    [\n",
    "        'packing',\n",
    "        'compound',\n",
    "        'res_time_sec',\n",
    "        'conv',\n",
    "        'conv_sd'\n",
    "    ]\n",
    "].query(\n",
    "    \"compound in ['CO₂']\"\n",
    ").drop_duplicates(\n",
    ").assign(\n",
    "    conv=lambda x: x['conv'] * 100,\n",
    "    conv_sd=lambda x: x['conv_sd'] * 100,\n",
    "    sei_ideal_kjmol=lambda x: round(\n",
    "        number=30/((1-0.4774)*(17.31/x['res_time_sec']))*24.055,\n",
    "        ndigits=-1\n",
    "    ).astype(int)\n",
    ").groupby(\n",
    "    ['packing', 'res_time_sec', 'sei_ideal_kjmol']\n",
    ").agg(\n",
    "    conv_mean=('conv', 'mean'),\n",
    "    conv_sd=('conv_sd', lambda x: ((x**2).sum()**0.5)/len(x))\n",
    ").reset_index(\n",
    ").copy()"
   ]
  },
  {
   "cell_type": "code",
   "execution_count": 143,
   "metadata": {},
   "outputs": [
    {
     "data": {
      "image/png": "[encoded data removed]",
      "text/plain": [
       "<Figure size 296.6x196.85 with 1 Axes>"
      ]
     },
     "metadata": {},
     "output_type": "display_data"
    }
   ],
   "source": [
    "# Plot the conversion vs SEI\n",
    "g = sns.lmplot(\n",
    "    data=df_conv,\n",
    "    x='sei_ideal_kjmol',\n",
    "    y='conv_mean',\n",
    "    hue='packing',\n",
    "    palette=packing_colors,\n",
    "    hue_order=packing_order,\n",
    "    height=5/2.54,\n",
    "    aspect=1,\n",
    "    order=2,\n",
    "    ci=None,\n",
    "    legend=True,\n",
    "    scatter_kws={'s': 8, 'alpha': alpha},\n",
    "    line_kws={'lw': 0.9}\n",
    ").set(\n",
    "    xlabel='SEI (kJ mol⁻¹)',\n",
    "    ylabel='CO$_2$ Conversion (%)'\n",
    ")\n",
    "\n",
    "g.legend.set_title('Packing', prop={'size': 8})\n",
    "\n",
    "ax = g.axes.flatten()[0]\n",
    "\n",
    "for packing in df_conv['packing'].unique():\n",
    "    subset = df_conv[df_conv['packing'] == packing]\n",
    "    ax.errorbar(\n",
    "        x=subset['sei_ideal_kjmol'],\n",
    "        y=subset['conv_mean'],\n",
    "        yerr=subset['conv_sd'] * t_quantile,\n",
    "        fmt='none',\n",
    "        ecolor=packing_colors[packing],\n",
    "        elinewidth=0.5,\n",
    "        capsize=1,\n",
    "        capthick=0.95,\n",
    "        alpha=0.6\n",
    "    )\n",
    "\n",
    "plt.savefig(\n",
    "    r\"C:\\Users\\sbossier\\Dropbox\\Apps\\Overleaf\\ladca_desine_paper_coating\\figs\\sander_conv_vs_sei.pdf\",\n",
    "    bbox_inches='tight'\n",
    ")\n",
    "plt.show()"
   ]
  },
  {
   "cell_type": "markdown",
   "metadata": {},
   "source": [
    "Step 3: Atom balances"
   ]
  },
  {
   "cell_type": "code",
   "execution_count": 145,
   "metadata": {},
   "outputs": [],
   "source": [
    "# Prepare the data\n",
    "df_balance = df[\n",
    "    [\n",
    "        'packing',\n",
    "        'compound',\n",
    "        'res_time_sec',\n",
    "        'balance_c',\n",
    "        'balance_c_sd',\n",
    "        'balance_o',\n",
    "        'balance_o_sd'\n",
    "    ]\n",
    "].query(\n",
    "    \"compound in ['CO₂']\"\n",
    ").drop_duplicates(\n",
    ").assign(\n",
    "    balance_c=lambda x: x['balance_c'] * 100,\n",
    "    balance_c_sd=lambda x: x['balance_c_sd'] * 100,\n",
    "    balance_o=lambda x: x['balance_o'] * 100,\n",
    "    balance_o_sd=lambda x: x['balance_o_sd'] * 100,\n",
    "    sei_ideal_kjmol=lambda x: round(\n",
    "        number=30/((1-0.4774)*(17.31/x['res_time_sec']))*24.055,\n",
    "        ndigits=-1\n",
    "    ).astype(int)\n",
    ").groupby(\n",
    "    ['packing', 'res_time_sec', 'sei_ideal_kjmol']\n",
    ").agg(\n",
    "    balance_c=('balance_c', 'mean'),\n",
    "    balance_c_sd=('balance_c_sd', lambda x: ((x**2).sum()**0.5)/len(x)),\n",
    "    balance_o=('balance_o', 'mean'),\n",
    "    balance_o_sd=('balance_o_sd', lambda x: ((x**2).sum()**0.5)/len(x))\n",
    ").reset_index(\n",
    ").copy()"
   ]
  },
  {
   "cell_type": "code",
   "execution_count": 152,
   "metadata": {},
   "outputs": [
    {
     "name": "stderr",
     "output_type": "stream",
     "text": [
      "c:\\Users\\sbossier\\AppData\\Local\\Programs\\Python\\Python311\\Lib\\site-packages\\matplotlib\\axes\\_axes.py:1185: RuntimeWarning: All-NaN axis encountered\n",
      "  miny = np.nanmin(masked_verts[..., 1])\n",
      "c:\\Users\\sbossier\\AppData\\Local\\Programs\\Python\\Python311\\Lib\\site-packages\\matplotlib\\axes\\_axes.py:1186: RuntimeWarning: All-NaN axis encountered\n",
      "  maxy = np.nanmax(masked_verts[..., 1])\n"
     ]
    },
    {
     "data": {
      "image/png": "[encoded data removed]",
      "text/plain": [
       "<Figure size 590.551x196.85 with 2 Axes>"
      ]
     },
     "metadata": {},
     "output_type": "display_data"
    }
   ],
   "source": [
    "# Create the figure\n",
    "fig = plt.figure(figsize=(15/2.54, 5/2.54), )\n",
    "\n",
    "# Create the gridspec\n",
    "gs = gridspec.GridSpec(1, 2, figure=fig)\n",
    "\n",
    "# Create subplots\n",
    "ax1 = fig.add_subplot(gs[0, 0])\n",
    "ax2 = fig.add_subplot(gs[0, 1])\n",
    "\n",
    "# Plot on first subplot\n",
    "sns.lineplot(\n",
    "    data=df_balance,\n",
    "    x=\"sei_ideal_kjmol\",\n",
    "    y=\"balance_c\",\n",
    "    hue=\"packing\",\n",
    "    palette=packing_colors,\n",
    "    ax=ax1,\n",
    "    legend=False,\n",
    "    marker='o',\n",
    "    markersize=3,\n",
    "    linewidth=1\n",
    ")\n",
    "\n",
    "# Plot on second subplot\n",
    "sns.lineplot(\n",
    "    data=df_balance,\n",
    "    x=\"sei_ideal_kjmol\",\n",
    "    y=\"balance_o\",\n",
    "    hue=\"packing\",\n",
    "    palette=packing_colors,\n",
    "    ax=ax2,\n",
    "    legend=True,\n",
    "    marker='o',\n",
    "    markersize=3,\n",
    "    linewidth=1\n",
    ")\n",
    "\n",
    "#place legend outside top right corner of plot\n",
    "ax2.legend(\n",
    "    bbox_to_anchor=(1.03, 0.5),\n",
    "    loc='center left',\n",
    "    frameon=False,\n",
    "    fontsize=8,\n",
    "    title=\"Material\"\n",
    ")\n",
    "\n",
    "# Iterate over the axes to add error bars\n",
    "# Iterate over the axes and materials to add error bars\n",
    "for ax, balance in zip(fig.axes, ['balance_c', 'balance_o']):\n",
    "    for packing in df_balance['packing'].unique():\n",
    "        subset = df_balance[(df_balance['packing'] == packing)]\n",
    "        ax.errorbar(\n",
    "            subset['sei_ideal_kjmol'], \n",
    "            subset[balance], \n",
    "            yerr=subset[balance+'_sd'] * t_quantile, \n",
    "            fmt='none',\n",
    "            ecolor=packing_colors[packing],\n",
    "            elinewidth=0.5, \n",
    "            capsize=1,\n",
    "            alpha=0.6\n",
    "        )\n",
    "        \n",
    "# Set titles\n",
    "ax1.set_title(\"Carbon\", fontsize=9)\n",
    "ax2.set_title(\"Oxygen\", fontsize=9)\n",
    "\n",
    "# Set y label\n",
    "ax1.set_ylabel(\"Balance (%)\", fontsize=8)\n",
    "ax2.set_ylabel(\"\")\n",
    "\n",
    "# Set x label\n",
    "ax1.set_xlabel(\"SEI (kJ mol⁻¹)\", fontsize=8)\n",
    "ax2.set_xlabel(\"SEI (kJ mol⁻¹)\", fontsize=8)\n",
    "\n",
    "# Set y limits and ticks\n",
    "ax1.set_ylim(95, 105)\n",
    "ax1.spines['left'].set_bounds(95, 100)\n",
    "ax1.set_yticks(ticks=[95, 97.5, 100])\n",
    "\n",
    "ax2.set_ylim(80, 105)\n",
    "ax2.spines['left'].set_bounds(80, 100)\n",
    "ax2.set_yticks(ticks=[80, 85, 90, 95, 100])\n",
    "\n",
    "# Set x limits and ticks\n",
    "ax1.spines['bottom'].set_bounds(500, 5500)\n",
    "ax2.spines['bottom'].set_bounds(500, 5500)\n",
    "ax1.set_xlim(0, 5650)\n",
    "ax2.set_xlim(0, 5650)\n",
    "ax1.set_xticks(ticks=[500, 3000, 5500])\n",
    "ax2.set_xticks(ticks=[500, 3000, 5500])\n",
    "\n",
    "sns.despine(ax=ax1, left=False, bottom=False)\n",
    "sns.despine(ax=ax2, left=False, bottom=False)\n",
    "\n",
    "plt.tight_layout()\n",
    "plt.savefig(\n",
    "    r\"C:\\Users\\sbossier\\Dropbox\\Apps\\Overleaf\\ladca_desine_paper_coating\\figs\\sander_balance_vs_sei.pdf\"\n",
    ")\n",
    "plt.show()"
   ]
  }
 ],
 "metadata": {
  "kernelspec": {
   "display_name": "Python 3",
   "language": "python",
   "name": "python3"
  },
  "language_info": {
   "codemirror_mode": {
    "name": "ipython",
    "version": 3
   },
   "file_extension": ".py",
   "mimetype": "text/x-python",
   "name": "python",
   "nbconvert_exporter": "python",
   "pygments_lexer": "ipython3",
   "version": "3.11.5"
  }
 },
 "nbformat": 4,
 "nbformat_minor": 2
}
