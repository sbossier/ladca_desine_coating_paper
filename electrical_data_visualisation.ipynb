{
 "cells": [
  {
   "cell_type": "markdown",
   "metadata": {},
   "source": [
    "Graphs to make:\n",
    "- [V] 1. Lissajous overview\n",
    "- [ ] 2. Single representative Lissajous\n",
    "- [V] 3. Current/Voltage profile overview\n",
    "- [ ] 4. Single representative current/voltage profile"
   ]
  },
  {
   "cell_type": "markdown",
   "metadata": {},
   "source": [
    "Step 0: import libraries and create static variables"
   ]
  },
  {
   "cell_type": "code",
   "execution_count": null,
   "metadata": {},
   "outputs": [],
   "source": [
    "import pandas as pd\n",
    "import os\n",
    "import matplotlib.pyplot as plt\n",
    "import seaborn as sns\n",
    "import scipy.stats as stats\n",
    "import numpy as np\n",
    "from matplotlib.patches import FancyArrowPatch"
   ]
  },
  {
   "cell_type": "code",
   "execution_count": null,
   "metadata": {},
   "outputs": [],
   "source": [
    "# Define the alpha value for the post-plasma materials\n",
    "alpha = 0.75\n",
    "\n",
    "# Define the color for each material\n",
    "packing_colors = {\n",
    "    'SiO₂ Type S': (0/255, 0/255, 0/255),\n",
    "    'SiO₂@TiO₂  3 h': (86/255, 180/255, 233/255),\n",
    "    'SiO₂@TiO₂  6 h': (0/255, 114/255, 178/255),\n",
    "    'SiO₂@TiO₂  9 h': (230/255, 159/255, 0/255),\n",
    "    'SiO₂@TiO₂ 12 h': (213/255, 94/255, 0/255)\n",
    "}\n",
    "\n",
    "# determine order of materials for plotting\n",
    "packing_order = [\n",
    "    'SiO₂ Type S',\n",
    "    'SiO₂@TiO₂  3 h',\n",
    "    'SiO₂@TiO₂  6 h',\n",
    "    'SiO₂@TiO₂  9 h',\n",
    "    'SiO₂@TiO₂ 12 h',      \n",
    "]\n",
    "\n",
    "t_quantile = stats.t.ppf(1 - 0.05/2, 7)"
   ]
  },
  {
   "cell_type": "code",
   "execution_count": null,
   "metadata": {},
   "outputs": [],
   "source": [
    "# Use Times New Roman font\n",
    "plt.rcParams['font.family'] = 'serif'\n",
    "plt.rcParams['font.serif'] = 'Times New Roman'\n",
    "plt.rcParams['mathtext.fontset'] = 'custom'\n",
    "plt.rcParams['mathtext.rm'] = 'Times New Roman'\n",
    "plt.rcParams['mathtext.it'] = 'Times New Roman:italic'\n",
    "plt.rcParams['mathtext.bf'] = 'Times New Roman:bold'\n",
    "\n",
    "# Set font size\n",
    "plt.rcParams['font.size'] = 7"
   ]
  },
  {
   "cell_type": "markdown",
   "metadata": {},
   "source": [
    "Step 1: import & prepare data"
   ]
  },
  {
   "cell_type": "code",
   "execution_count": null,
   "metadata": {},
   "outputs": [],
   "source": [
    "# set the folder and file name\n",
    "folder_path = r'N:\\FWET\\FDCH\\AdsCatal\\General\\personal_work_folders\\plasmacatdesign\\drm\\ugent'"
   ]
  },
  {
   "cell_type": "code",
   "execution_count": null,
   "metadata": {},
   "outputs": [],
   "source": [
    "file_name = 'ugent_drm_electrical_data_combined.csv'\n",
    "file_path = os.path.join(folder_path, file_name)\n",
    "\n",
    "# read the Excel file\n",
    "df = pd.read_csv(file_path)"
   ]
  }
 ],
 "metadata": {
  "language_info": {
   "name": "python"
  }
 },
 "nbformat": 4,
 "nbformat_minor": 2
}
